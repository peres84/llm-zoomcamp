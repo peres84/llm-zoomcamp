{
 "cells": [
  {
   "cell_type": "code",
   "execution_count": 3,
   "id": "e5ad29f7-5eec-4586-abb6-3efb0f5e7c1b",
   "metadata": {},
   "outputs": [],
   "source": [
    "from openai import OpenAI\n",
    "from dotenv import load_dotenv\n",
    "import os"
   ]
  },
  {
   "cell_type": "code",
   "execution_count": 4,
   "id": "89f38e45-258e-4750-9138-3158686565aa",
   "metadata": {},
   "outputs": [],
   "source": [
    "load_dotenv()\n",
    "# Now you can access them like regular environment variables\n",
    "api_key = os.getenv(\"OPENAI_API_KEY\")"
   ]
  },
  {
   "cell_type": "code",
   "execution_count": 5,
   "id": "d113d62b-e2b2-48f8-a353-6e745bd4b6f6",
   "metadata": {},
   "outputs": [],
   "source": [
    "client = OpenAI()"
   ]
  },
  {
   "cell_type": "code",
   "execution_count": 6,
   "id": "91d57a47-1c24-4f00-abc4-27db041d35e2",
   "metadata": {},
   "outputs": [],
   "source": [
    "response = client.chat.completions.create(\n",
    "    model=\"gpt-4o-mini\",\n",
    "    messages = [{\"role\":\"user\", \"content\": \"how to make pan\"}]\n",
    ")"
   ]
  },
  {
   "cell_type": "code",
   "execution_count": 11,
   "id": "9882c015-cac0-461b-9dbc-95185bcd40fb",
   "metadata": {},
   "outputs": [
    {
     "data": {
      "text/plain": [
       "\"Making a simple pan, like a frying pan, is a complex industrial process that involves several steps and requires specialized equipment, materials, and safety precautions. However, I can provide a general overview of how a basic metal frying pan could be made:\\n\\n### Materials Needed\\n1. **Metal Sheet**: Typically made from materials like stainless steel, aluminum, or cast iron.\\n2. **Coating (optional)**: Non-stick coatings like Teflon, if desired.\\n\\n### Tools and Equipment\\n- Hydraulic press or hammer for shaping\\n- Welding machine (if making a multi-part pan)\\n- Lathe machine for finishing edges\\n- Heat source for tempering (if necessary)\\n- Non-stick application tools (for coating)\\n\\n### Steps to Make a Pan\\n\\n1. **Material Selection**: Choose the appropriate material based on the desired properties. For example, stainless steel is durable and non-reactive, while cast iron retains heat well.\\n\\n2. **Cutting the Metal**: Cut the metal sheet into a circular shape that will form the base of the pan. The size will depend on the desired dimensions of the finished pan.\\n\\n3. **Shaping the Pan**: \\n   - Use a hydraulic press or hammer to shape the metal into a bowl-like form, creating the sides of the pan.\\n   - The edges should be flared slightly for better pouring and handling.\\n\\n4. **Forming the Handle**:\\n   - Cut a separate piece of metal for the handle.\\n   - Weld or attach the handle securely to the side of the pan. Many handles are also designed to stay cool during cooking.\\n\\n5. **Finishing Edges**: Use a lathe or grinding tool to smooth out any rough edges to ensure safety during handling.\\n\\n6. **Coating the Pan (Optional)**: \\n   - If applying a non-stick surface, follow the manufacturer's instructions for coating application. This usually involves cleaning the metal surface thoroughly, applying the coating, and then curing it in a heat source.\\n\\n7. **Tempering (For Cast Iron)**: If making a cast iron pan, temper it by heating it to a specific temperature and then cooling it down to improve its strength and durability.\\n\\n8. **Quality Control**: Inspect for any defects or weaknesses in the material and ensure that all parts are securely attached.\\n\\n### Safety Precautions\\n- Use protective eyewear and gloves while working with metal and machinery.\\n- Ensure proper ventilation if applying coatings.\\n\\n### Note\\nFor those looking for a pan for cooking, it's usually more practical to purchase one from a store, where they are mass-produced with high-quality control standards. Making your own pan can be a fun project for DIY enthusiasts, provided you have access to the necessary tools and skills.\""
      ]
     },
     "execution_count": 11,
     "metadata": {},
     "output_type": "execute_result"
    }
   ],
   "source": [
    "response.choices[0].message.content\n",
    "# Output the response content"
   ]
  },
  {
   "cell_type": "code",
   "execution_count": null,
   "id": "47ce01ad-f77a-403c-8f7a-4abe6500a4e5",
   "metadata": {},
   "outputs": [],
   "source": []
  }
 ],
 "metadata": {
  "kernelspec": {
   "display_name": "venv (3.13.2)",
   "language": "python",
   "name": "python3"
  },
  "language_info": {
   "codemirror_mode": {
    "name": "ipython",
    "version": 3
   },
   "file_extension": ".py",
   "mimetype": "text/x-python",
   "name": "python",
   "nbconvert_exporter": "python",
   "pygments_lexer": "ipython3",
   "version": "3.13.2"
  }
 },
 "nbformat": 4,
 "nbformat_minor": 5
}
