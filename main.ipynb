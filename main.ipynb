{
 "cells": [
  {
   "cell_type": "code",
   "execution_count": 4,
   "id": "e5ad29f7-5eec-4586-abb6-3efb0f5e7c1b",
   "metadata": {},
   "outputs": [],
   "source": [
    "from openai import OpenAI\n",
    "from dotenv import load_dotenv\n",
    "import os"
   ]
  },
  {
   "cell_type": "code",
   "execution_count": 5,
   "id": "89f38e45-258e-4750-9138-3158686565aa",
   "metadata": {},
   "outputs": [],
   "source": [
    "load_dotenv()\n",
    "# Now you can access them like regular environment variables\n",
    "api_key = os.getenv(\"OPENAI_API_KEY\")"
   ]
  },
  {
   "cell_type": "code",
   "execution_count": 8,
   "id": "d113d62b-e2b2-48f8-a353-6e745bd4b6f6",
   "metadata": {},
   "outputs": [],
   "source": [
    "client = OpenAI()"
   ]
  },
  {
   "cell_type": "code",
   "execution_count": 12,
   "id": "91d57a47-1c24-4f00-abc4-27db041d35e2",
   "metadata": {},
   "outputs": [],
   "source": [
    "response = client.chat.completions.create(\n",
    "    model=\"gpt-4o-mini\",\n",
    "    messages = [{\"role\":\"user\", \"content\": \"how to make pan\"}]\n",
    ")"
   ]
  },
  {
   "cell_type": "code",
   "execution_count": 24,
   "id": "9882c015-cac0-461b-9dbc-95185bcd40fb",
   "metadata": {},
   "outputs": [
    {
     "data": {
      "text/plain": [
       "\"Making a pan from scratch is a complex process typically carried out in a factory due to the need for specialized equipment and materials. However, if you're looking for a way to create a simple pan for cooking, here’s a basic guide to making a basic frying pan from aluminum or cast iron at home. Note that this is more of a conceptual overview, as actual metalworking can be dangerous without proper skills and tools.\\n\\n### Making a Simple Pan (Conceptual Overview)\\n\\n#### Materials Needed:\\n- Metal sheet (aluminum or cast iron)\\n- Metalworking tools (saw, hammer, anvil, etc.)\\n- Welding or brazing tools (for joining pieces)\\n- Heat source (forge or furnace, if working with iron)\\n- Safety gear (gloves, goggles, etc.)\\n\\n#### Steps:\\n\\n1. **Design the Pan:**\\n   - Determine the size and shape you want for your pan (e.g., round, flat, curved edges). Draw a design plan to follow.\\n\\n2. **Cut the Metal:**\\n   - Use metal shears or a saw to cut your metal sheet into the desired size for the base of the pan. Consider cutting a larger piece to form the sides.\\n\\n3. **Form the Sides:**\\n   - If you are using a metal sheet, you will need to bend or shape the sides of the pan. This can be done by:\\n     - Heating the metal to make it malleable (if working with cast iron).\\n     - Using a hammer and anvil to shape the sides if it’s aluminum.\\n\\n4. **Join the Pieces:**\\n   - If your pan requires multiple pieces (like a base and side), weld or braze them together. Make sure the seams are solid and there are no gaps where food could leak.\\n\\n5. **Finish the Surface:**\\n   - Smooth out any rough edges with a grinder or file to make it safe to handle. If desired, you can apply a seasoning (for cast iron) to create a non-stick surface.\\n\\n6. **Test the Pan:**\\n   - Before using it for cooking, test the pan for strength and even heating. You might want to do a trial run on a stovetop or over an open flame to check for any issues.\\n\\n### Alternative: Buy a Pan\\nIf you're not experienced with metalworking or don't have the right tools, a simpler option is to buy a pre-made pan from a store. There are many types available, from non-stick to cast iron, that are affordable and high-quality.\\n\\n### Tips:\\n- Always prioritize safety when working with metal and tools. Wear protective gear.\\n- If you're interested in metalworking, consider taking classes or watching tutorials to gain skills.\\n- For casual cooking needs, consider upcycling old metal containers or using cast-off cookware instead of making from scratch.\\n\\n### Warning:\\nMaking your own cookware can be very dangerous, especially if you're not experienced in metalworking. Always consider purchasing from reliable manufacturers if you're unsure about the process!\""
      ]
     },
     "execution_count": 24,
     "metadata": {},
     "output_type": "execute_result"
    }
   ],
   "source": [
    "response.choices[0].message.content.strip()"
   ]
  },
  {
   "cell_type": "code",
   "execution_count": null,
   "id": "47ce01ad-f77a-403c-8f7a-4abe6500a4e5",
   "metadata": {},
   "outputs": [],
   "source": []
  }
 ],
 "metadata": {
  "kernelspec": {
   "display_name": "Python 3 (ipykernel)",
   "language": "python",
   "name": "python3"
  },
  "language_info": {
   "codemirror_mode": {
    "name": "ipython",
    "version": 3
   },
   "file_extension": ".py",
   "mimetype": "text/x-python",
   "name": "python",
   "nbconvert_exporter": "python",
   "pygments_lexer": "ipython3",
   "version": "3.13.2"
  }
 },
 "nbformat": 4,
 "nbformat_minor": 5
}
